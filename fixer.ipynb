{
 "metadata": {
  "language_info": {
   "codemirror_mode": {
    "name": "ipython",
    "version": 3
   },
   "file_extension": ".py",
   "mimetype": "text/x-python",
   "name": "python",
   "nbconvert_exporter": "python",
   "pygments_lexer": "ipython3",
   "version": "3.9.1"
  },
  "orig_nbformat": 2,
  "kernelspec": {
   "name": "python391jvsc74a57bd0dc9ce15577d54d9b6eac989d6f4e81b16b52d5e48d8d8fc790dcbd9abff4edad",
   "display_name": "Python 3.9.1 64-bit"
  },
  "metadata": {
   "interpreter": {
    "hash": "dc9ce15577d54d9b6eac989d6f4e81b16b52d5e48d8d8fc790dcbd9abff4edad"
   }
  }
 },
 "nbformat": 4,
 "nbformat_minor": 2,
 "cells": [
  {
   "source": [
    "import json\n",
    "\n",
    "level = json.load(open(\"./ExpertPlusLawless.dat\"))\n",
    "\n"
   ],
   "cell_type": "code",
   "metadata": {},
   "execution_count": 3,
   "outputs": []
  },
  {
   "cell_type": "code",
   "execution_count": 7,
   "metadata": {},
   "outputs": [
    {
     "output_type": "stream",
     "name": "stdout",
     "text": [
      "Rremoved 0 notes\n"
     ]
    }
   ],
   "source": [
    "\n",
    "# STACKED NOTES FIXER\n",
    "\n",
    "# sort notes by time\n",
    "level[\"_notes\"].sort(key=lambda x:x[\"_time\"])\n",
    "\n",
    "# have a list of all times\n",
    "# each time (beat) will contain one single beat and every note on that beat\n",
    "times = []\n",
    "\n",
    "lastTime = -1\n",
    "timesInd = -1\n",
    "for n in level[\"_notes\"]:\n",
    "    if n[\"_time\"] != lastTime:\n",
    "        lastTime = n[\"_time\"]\n",
    "        times.append([n])\n",
    "        timesInd += 1\n",
    "    else:\n",
    "        times[timesInd].append(n)\n",
    "notesFixed = 0\n",
    "for a in times:\n",
    "    lastNote = None\n",
    "    for b in a:\n",
    "        if not lastNote:\n",
    "            lastNote = b\n",
    "            continue\n",
    "\n",
    "        if lastNote[\"_lineIndex\"] == b[\"_lineIndex\"] and lastNote[\"_lineLayer\"] == b[\"_lineLayer\"]: # if both note have the same position then it's a stacked note\n",
    "            notesFixed += 1\n",
    "            level[\"_notes\"].pop(level[\"_notes\"].index(b))\n",
    "json.dump(level, open(\"./ExpertPlusLawless.dat\", 'w'))\n",
    "print(f\"Rremoved {notesFixed} notes\")\n"
   ]
  }
 ]
}